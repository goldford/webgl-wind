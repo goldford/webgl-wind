{
 "cells": [
  {
   "cell_type": "code",
   "execution_count": 1,
   "metadata": {},
   "outputs": [],
   "source": [
    "# the original wind file from copernicus has wind for every cell of the map\n",
    "import numpy as np\n",
    "import netCDF4 as nc\n",
    "import json\n",
    "import png #pip install pypng\n",
    "import math\n",
    "import pandas as pd\n"
   ]
  },
  {
   "cell_type": "code",
   "execution_count": 49,
   "metadata": {},
   "outputs": [
    {
     "name": "stdout",
     "output_type": "stream",
     "text": [
      "{'longitude': <class 'netCDF4._netCDF4.Variable'>\n",
      "float32 longitude(longitude)\n",
      "    units: degrees_east\n",
      "    long_name: longitude\n",
      "unlimited dimensions: \n",
      "current shape = (25,)\n",
      "filling on, default _FillValue of 9.969209968386869e+36 used, 'latitude': <class 'netCDF4._netCDF4.Variable'>\n",
      "float32 latitude(latitude)\n",
      "    units: degrees_north\n",
      "    long_name: latitude\n",
      "unlimited dimensions: \n",
      "current shape = (19,)\n",
      "filling on, default _FillValue of 9.969209968386869e+36 used, 'expver': <class 'netCDF4._netCDF4.Variable'>\n",
      "int32 expver(expver)\n",
      "    long_name: expver\n",
      "unlimited dimensions: \n",
      "current shape = (2,)\n",
      "filling on, default _FillValue of -2147483647 used, 'time': <class 'netCDF4._netCDF4.Variable'>\n",
      "int32 time(time)\n",
      "    units: hours since 1900-01-01 00:00:00.0\n",
      "    long_name: time\n",
      "    calendar: gregorian\n",
      "unlimited dimensions: \n",
      "current shape = (486,)\n",
      "filling on, default _FillValue of -2147483647 used, 'u10': <class 'netCDF4._netCDF4.Variable'>\n",
      "int16 u10(time, expver, latitude, longitude)\n",
      "    scale_factor: 0.00019562023761767836\n",
      "    add_offset: 0.6969766031807517\n",
      "    _FillValue: -32767\n",
      "    missing_value: -32767\n",
      "    units: m s**-1\n",
      "    long_name: 10 metre U wind component\n",
      "unlimited dimensions: \n",
      "current shape = (486, 2, 19, 25)\n",
      "filling on, 'v10': <class 'netCDF4._netCDF4.Variable'>\n",
      "int16 v10(time, expver, latitude, longitude)\n",
      "    scale_factor: 0.00022622045985240739\n",
      "    add_offset: -0.20314751116986762\n",
      "    _FillValue: -32767\n",
      "    missing_value: -32767\n",
      "    units: m s**-1\n",
      "    long_name: 10 metre V wind component\n",
      "unlimited dimensions: \n",
      "current shape = (486, 2, 19, 25)\n",
      "filling on, 'tp': <class 'netCDF4._netCDF4.Variable'>\n",
      "int16 tp(time, expver, latitude, longitude)\n",
      "    scale_factor: 4.9924085725715e-07\n",
      "    add_offset: 0.01636766267205184\n",
      "    _FillValue: -32767\n",
      "    missing_value: -32767\n",
      "    units: m\n",
      "    long_name: Total precipitation\n",
      "unlimited dimensions: \n",
      "current shape = (486, 2, 19, 25)\n",
      "filling on}\n"
     ]
    }
   ],
   "source": [
    "# get the wind file and extract horiz and vert vectors\n",
    "copern_10m = nc.Dataset(\"..//data//wind_10m.nc\")\n",
    "print(copern_10m.variables)\n",
    "#bathy1 = grid1.variables['Bathymetry'][:, :]\n",
    "X1 = copern_10m.variables['longitude'][:]\n",
    "Y1 = copern_10m.variables['latitude'][:]\n",
    "u10 = copern_10m.variables['u10'][:,:,:,:]\n",
    "v10 = copern_10m.variables['v10'][:,:,:,:]\n",
    "# note time in hours since 1900-01-01 00:00:00 (cumulative from start of data extract (1981))\n",
    "#time_var = copern_10m.variables['time']\n",
    "# This will convert number of days since 1900-01-01 (i.e. the units of time) to python datetime objects\n",
    "time_convert = nc.num2date(copern_10m.variables['time'][:], copern_10m.variables['time'].units, copern_10m.variables['time'].calendar)"
   ]
  },
  {
   "cell_type": "code",
   "execution_count": 52,
   "metadata": {},
   "outputs": [
    {
     "data": {
      "text/plain": [
       "datetime.datetime(1981, 1, 1, 0, 0)"
      ]
     },
     "execution_count": 52,
     "metadata": {},
     "output_type": "execute_result"
    }
   ],
   "source": [
    "time_convert[12]"
   ]
  },
  {
   "cell_type": "code",
   "execution_count": null,
   "metadata": {},
   "outputs": [],
   "source": []
  },
  {
   "cell_type": "code",
   "execution_count": 295,
   "metadata": {
    "scrolled": false
   },
   "outputs": [
    {
     "name": "stderr",
     "output_type": "stream",
     "text": [
      "C:\\ProgramData\\Anaconda3\\lib\\site-packages\\ipykernel_launcher.py:67: FutureWarning: arrays to stack must be passed as a \"sequence\" type such as list or tuple. Support for non-sequence iterables such as generators is deprecated as of NumPy 1.16 and will raise an error in the future.\n"
     ]
    }
   ],
   "source": [
    "# original script by MapBox / Agafonkin downloads 'grib' .anl files and produces a json file  \n",
    "# the json file is then used to create a PNG (RBGA format)\n",
    "# https://github.com/mapbox/webgl-wind/blob/master/data/prepare.js\n",
    "\n",
    "# Vladimir Agafonkin during interpolation and shading makes use of RBGA png (4 channel)  \n",
    "# only RB are used for vel vectors but during createtexture in wind-gl.js the spare alpha channel is used\n",
    "# see his methods summary: https://blog.mapbox.com/how-i-built-a-wind-map-with-webgl-b63022b5537f\n",
    "timestep = 364 # e.g, may 1980 = 4, may 1981 = 16 \n",
    "datefilename = \"2010-05\"\n",
    "\n",
    "# this can be achieved for netcdf copernicus file using png library\n",
    "\n",
    "# https://pypng.readthedocs.io/en/latest/png.html#colour-models\n",
    "\n",
    "#example writes a line of pixels vertically\n",
    "#png.from_array([[255,0,0,255],[0,255,255,0],[255,0,0,255],[255,0,0,255]], \"RGBA\").save(\"small_smiley.png\")\n",
    "\n",
    "# get width and height of array\n",
    "#print(v10.shape[3])\n",
    "#print(v10[2,0,:,:])\n",
    "\n",
    "# rescale the u and v values (0-255)\n",
    "# print(v10.shape)\n",
    "# dimensions in order: timestep (cumulative month), [v10,u10 (empty)], lat, lon)\n",
    "# print April,v10 measurements (all lats and lons):\n",
    "# print(v10[4,0,:,:])\n",
    "width = v10.shape[3]\n",
    "height = v10.shape[2]\n",
    "\n",
    "v_data = v10[timestep,0,:,:].data # .data to convert from masked array to np array\n",
    "u_data = u10[timestep,0,:,:].data\n",
    "\n",
    "vmax = v_data.max()\n",
    "vmin = v_data.min()\n",
    "umax = u_data.max()\n",
    "umin = u_data.min()\n",
    "\n",
    "# recode javascript from https://github.com/mapbox/webgl-wind/blob/master/data/prepare.js\n",
    "# js code:\n",
    "# for (let y = 0; y < height; y++):\n",
    "#     for (let x = 0; x < width; x++):\n",
    "#         const i = (y * width + x) * 4;\n",
    "#         const k = y * width + (x + width / 2) % width\n",
    "#         png.data[i + 0] = Math.floor(255 * (u_data.values[k] - u.minimum) / (u.maximum - u.minimum))\n",
    "#         png.data[i + 1] = Math.floor(255 * (v.values[k] - v.minimum) / (v.maximum - v.minimum))\n",
    "#         png.data[i + 2] = 0\n",
    "#         png.data[i + 3] = 255\n",
    "    \n",
    "# populate empty array of pixels using RBGA format\n",
    "# rescale values from 0 - 255\n",
    "u_data = u_data.T\n",
    "v_data = v_data.T\n",
    "\n",
    "png_array = np.zeros((width,height, 4), dtype='int')\n",
    "png_array[:,:,0] = np.floor_divide((255 * (u_data - umin) / (umax- umin)),1).astype(np.uint8) #R\n",
    "png_array[:,:,1] = np.floor_divide((255 * (v_data - vmin) / (vmax- vmin)),1).astype(np.uint8) #G\n",
    "png_array[:,:,2] = 0 #B\n",
    "png_array[:,:,3] = 255 #A = alpha\n",
    "#print(png_array[:,:,:])\n",
    "\n",
    "#from PIL import Image\n",
    "# fileName = \"image.png\"\n",
    "# image = Image(\"RGBA\",(width,height))\n",
    "# image.putdata(png_array)\n",
    "# image.save(fileName)\n",
    "\n",
    "image_2d = np.hstack(map(np.uint8, png_array))\n",
    "#image_2d = np.hstack(map(np.uint16, image_2d))\n",
    "# img = Image.fromarray(png_array, 'RGB')            \n",
    "# img.save('my.png')\n",
    "\n",
    "# https://stackoverflow.com/questions/26534148/python-pillow-v2-6-0-paletted-png-256-how-to-add-an-alpha-channel\n",
    "# img = Image.open(\"my.png\")\n",
    "# if img.mode == \"RGB\":\n",
    "#     a_channel = Image.new('RGBA', img.size, 255)\n",
    "#     img.putalpha(a_channel)\n",
    "\n",
    "# help(png)\n",
    "info_dict = {\n",
    "  \"height\": height,\n",
    "  \"width\": width\n",
    "}\n",
    "\n",
    "# write accompanying json used for metadata and interpolation scaling\n",
    "png.from_array(image_2d, 'RGBA', info=info_dict).save(\"..//salish-sea-demo//wind//\" + str(datefilename) + \".png\")\n",
    "\n",
    "data = {'source': 'https://www.ecmwf.int/en/forecasts/datasets/browse-reanalysis-datasets',\n",
    "        'date': datefilename,\n",
    "        'width': width,\n",
    "        'height':height,\n",
    "        'uMin': umin,\n",
    "        'uMax': umax,\n",
    "        'vMin': vmin,\n",
    "        'vMax': vmax\n",
    "       }\n",
    "\n",
    "with open(\"..//salish-sea-demo//wind//\" + str(datefilename) + \".json\", 'w') as outfile:\n",
    "    json.dump(data, outfile)\n",
    "\n",
    "# image_2d = np.vstack(map(np.uint16, png_array))\n",
    "# png.from_array(image_2d, 'RGBA').save(\"file.png\")"
   ]
  },
  {
   "cell_type": "code",
   "execution_count": 271,
   "metadata": {
    "scrolled": true
   },
   "outputs": [],
   "source": [
    "\n",
    "\n",
    "\n",
    "# data['people'] = []\n",
    "# data['people'].append({\n",
    "#     'name': 'Scott',\n",
    "#     'website': 'stackabuse.com',\n",
    "#     'from': 'Nebraska'\n",
    "# })\n",
    "# data['people'].append({\n",
    "#     'name': 'Larry',\n",
    "#     'website': 'google.com',\n",
    "#     'from': 'Michigan'\n",
    "# })\n",
    "# data['people'].append({\n",
    "#     'name': 'Tim',\n",
    "#     'website': 'apple.com',\n",
    "#     'from': 'Alabama'\n",
    "# })\n",
    "\n"
   ]
  },
  {
   "cell_type": "code",
   "execution_count": 258,
   "metadata": {},
   "outputs": [
    {
     "data": {
      "text/plain": [
       "array([-0.00295261,  0.19032019,  0.3499463 ,  0.38222364,  0.2533099 ,\n",
       "        0.42428199,  0.56004244,  0.77189915,  1.01896751,  1.19287391,\n",
       "        0.98375587,  0.73238387,  0.54243662,  0.54674026,  0.7278846 ,\n",
       "        0.8110232 ,  1.13027543,  1.33626354,  1.45735247])"
      ]
     },
     "execution_count": 258,
     "metadata": {},
     "output_type": "execute_result"
    }
   ],
   "source": [
    "u_data[24]"
   ]
  },
  {
   "cell_type": "code",
   "execution_count": 221,
   "metadata": {},
   "outputs": [
    {
     "data": {
      "image/png": "[encoded data removed]",
      "text/plain": [
       "<PIL.PngImagePlugin.PngImageFile image mode=RGBA size=19x25 at 0x1A49F7798C8>"
      ]
     },
     "execution_count": 221,
     "metadata": {},
     "output_type": "execute_result"
    }
   ],
   "source": [
    "img = Image.open(\"file3.png\")\n",
    "img"
   ]
  },
  {
   "cell_type": "code",
   "execution_count": 250,
   "metadata": {},
   "outputs": [
    {
     "data": {
      "text/plain": [
       "(25, 19)"
      ]
     },
     "execution_count": 250,
     "metadata": {},
     "output_type": "execute_result"
    }
   ],
   "source": [
    "u_data.T.shape"
   ]
  },
  {
   "cell_type": "code",
   "execution_count": null,
   "metadata": {},
   "outputs": [],
   "source": [
    "# to do - export json file of max min width etc"
   ]
  },
  {
   "cell_type": "code",
   "execution_count": 247,
   "metadata": {},
   "outputs": [
    {
     "data": {
      "text/plain": [
       "(25, 76)"
      ]
     },
     "execution_count": 247,
     "metadata": {},
     "output_type": "execute_result"
    }
   ],
   "source": [
    "image_2d.shape"
   ]
  },
  {
   "cell_type": "code",
   "execution_count": 248,
   "metadata": {},
   "outputs": [
    {
     "data": {
      "text/plain": [
       "array([[ 57,  54,  51, ...,  68,  59,  52],\n",
       "       [118, 120, 125, ..., 141, 140, 137],\n",
       "       [  0,   0,   0, ...,   0,   0,   0],\n",
       "       ...,\n",
       "       [  0,   2,   6, ..., 104,  81,  70],\n",
       "       [  0,   0,   0, ...,   0,   0,   0],\n",
       "       [255, 255, 255, ..., 255, 255, 255]], dtype=uint8)"
      ]
     },
     "execution_count": 248,
     "metadata": {},
     "output_type": "execute_result"
    }
   ],
   "source": [
    "image_2d.T"
   ]
  },
  {
   "cell_type": "code",
   "execution_count": null,
   "metadata": {},
   "outputs": [],
   "source": [
    "import PIL\n",
    "#https://stackoverflow.com/questions/54703674/how-do-i-make-my-numpy-image-take-an-alpha-channel-value-in-python\n",
    "\n",
    "\n",
    "\n",
    "# Make into Numpy array of RGB and get dimensions\n",
    "RGB = np.array(im)\n",
    "h, w = RGB.shape[:2]\n",
    "\n",
    "# Add an alpha channel, fully opaque (255)\n",
    "RGBA = np.dstack((RGB, np.zeros((h,w),dtype=np.uint8)+255))\n",
    "\n",
    "# Make mask of black pixels - mask is True where image is black\n",
    "mBlack = (RGBA[:, :, 0:3] == [0,0,0]).all(2)\n",
    "\n",
    "# Make all pixels matched by mask into transparent ones\n",
    "RGBA[mBlack] = (0,0,0,0)\n",
    "\n",
    "# Convert Numnpy array back to PIL Image and save\n",
    "Image.fromarray(RGBA).save('result.png')"
   ]
  },
  {
   "cell_type": "code",
   "execution_count": 284,
   "metadata": {},
   "outputs": [
    {
     "data": {
      "image/png": "[encoded data removed]",
      "text/plain": [
       "<PIL.PngImagePlugin.PngImageFile image mode=RGBA size=25x19 at 0x1A49F79EC08>"
      ]
     },
     "execution_count": 284,
     "metadata": {},
     "output_type": "execute_result"
    }
   ],
   "source": [
    "img = Image.open(\"..//salish-sea-demo//wind//2000-05.png\")\n",
    "img"
   ]
  },
  {
   "cell_type": "code",
   "execution_count": 287,
   "metadata": {},
   "outputs": [],
   "source": [
    "pix = np.array(img)"
   ]
  },
  {
   "cell_type": "code",
   "execution_count": 293,
   "metadata": {},
   "outputs": [
    {
     "data": {
      "text/plain": [
       "array([[ 83, 101,   0, 255],\n",
       "       [ 83, 105,   0, 255],\n",
       "       [ 85, 111,   0, 255],\n",
       "       [ 91, 114,   0, 255],\n",
       "       [103, 123,   0, 255],\n",
       "       [112, 128,   0, 255],\n",
       "       [118, 137,   0, 255],\n",
       "       [123, 140,   0, 255],\n",
       "       [133, 136,   0, 255],\n",
       "       [139, 132,   0, 255],\n",
       "       [143, 129,   0, 255],\n",
       "       [145, 128,   0, 255],\n",
       "       [146, 129,   0, 255],\n",
       "       [146, 130,   0, 255],\n",
       "       [144, 122,   0, 255],\n",
       "       [145, 117,   0, 255],\n",
       "       [139, 106,   0, 255],\n",
       "       [134, 106,   0, 255],\n",
       "       [118, 112,   0, 255],\n",
       "       [100, 118,   0, 255],\n",
       "       [ 86, 123,   0, 255],\n",
       "       [ 74, 127,   0, 255],\n",
       "       [ 61, 129,   0, 255],\n",
       "       [ 49, 126,   0, 255],\n",
       "       [ 46, 118,   0, 255]], dtype=uint8)"
      ]
     },
     "execution_count": 293,
     "metadata": {},
     "output_type": "execute_result"
    }
   ],
   "source": [
    "pix[0]"
   ]
  },
  {
   "cell_type": "code",
   "execution_count": null,
   "metadata": {},
   "outputs": [],
   "source": []
  }
 ],
 "metadata": {
  "kernelspec": {
   "display_name": "Python 3",
   "language": "python",
   "name": "python3"
  },
  "language_info": {
   "codemirror_mode": {
    "name": "ipython",
    "version": 3
   },
   "file_extension": ".py",
   "mimetype": "text/x-python",
   "name": "python",
   "nbconvert_exporter": "python",
   "pygments_lexer": "ipython3",
   "version": "3.7.4"
  }
 },
 "nbformat": 4,
 "nbformat_minor": 2
}
